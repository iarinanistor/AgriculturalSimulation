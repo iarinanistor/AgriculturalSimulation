{
 "cells": [
  {
   "cell_type": "markdown",
   "id": "d6337206",
   "metadata": {},
   "source": [
    "## Consigne\n",
    "\n",
    "Le travail attendu pour ces 3 semaines est à faire dans les fichiers `session1.py`, `session2.py`, `session3.py`. \n",
    "\n",
    "Les fichiers `session{1|2|3}.py` commenceront par un commentaire avec les noms de leur auteur :\n",
    "\n",
    "```python\n",
    "# prenom1 nom1\n",
    "# prenom2 nom2\n",
    "```\n",
    "\n",
    "Une attention particulière sera portée à la qualité de la documentation de votre code.\n",
    "\n",
    "Cette semaine, il s'agit de travaillr dans session2.py"
   ]
  },
  {
   "cell_type": "code",
   "execution_count": 1,
   "id": "d0fbb8e7-f756-4c0e-813c-c7a1eac104a8",
   "metadata": {},
   "outputs": [],
   "source": [
    "import session2 as project\n",
    "import pandas as pd\n",
    "import numpy as np"
   ]
  },
  {
   "cell_type": "markdown",
   "id": "88fd0464-5e36-4f71-965e-926f1414ee47",
   "metadata": {},
   "source": [
    "# Session 2 - Modélisation d'une microferme en maraîchage diversifié"
   ]
  },
  {
   "cell_type": "markdown",
   "id": "bcf1720a-8b92-4c54-9787-c18eab2c3f3a",
   "metadata": {},
   "source": [
    "Dans les microfermes en maraîchage diversifié, les produits récoltés sont souvent vendus en direct aux particuliers sous forme de paniers hebdomadaires. Il faut pour satisfaire la clientèle avoir suffisament de sortes de légumes et suffisament de sortes de légume pour chaque catégorie. Dans la suite, on considère 8 catégories de légume. Le maraîcher choisit donc parmi les **cycles de culture** ceux qui sont adaptés pour respecter les contraintes de quantité et de diversité. La viabilité d'une microferme respectant ces contraintes sera évaluées sur la base du revenu et de la charge de travail qu'elle génère. Le but du projet est de simuler des microfermes de manière aléatoire et d'évaluer leur viabvilité."
   ]
  },
  {
   "cell_type": "markdown",
   "id": "469c48e2-7c3e-4288-9fa5-c3d673be743b",
   "metadata": {},
   "source": [
    "## 1 - Simulation d'une microferme\n",
    "\n",
    "On dispose de deux bases de données issues de la thèse de Kevin Morel qui rassemble les plus de 1000 cycles de culture et qui donne les critères de quantité et de diversité.\n",
    "\n",
    "La base de données **\"cropping_cycles.csv\"** contient plus de 1000 cycles de culture avec pour chaque cycle de culture:\n",
    "- un identifiant entier unique ('ID'), par exemple 233\n",
    "- le nom en français du légume concerné ('Crop_french'), par exemple 'Tomate cerise'\n",
    "- la catégorie du légume concerné ('Crop category'), par exemple 'Tomato'\n",
    "- le nombre de lots minimum par mois de récolte ('Shmin') et maximum total ('Shmax') qu'on peut cultiver pour ce cycle\n",
    "- la durée de la récolte en mois ('Harvest_last')\n",
    "- pour chaque mois de l'année, un booléen (0 ou 1) qui indique si le légume cultivé dans ce cycle peut être vendu ('Sale_Jan', 'Sale_Feb', 'Sale_Mar',...)\n",
    "\n",
    "La base de données **\"criteria.csv\"** donne pour chaque categorie de légume:\n",
    "- le nom de la categorie ('Crop category')\n",
    "- pour chaque mois le nombre minimum de légumes différent de cette catégorie qui doivent être proposés ('Minimal number of crops_1', 'Minimal number of crops_2', ..., 'Minimal number of crops_12')\n",
    "- pour chaque mois la quantité minimum en nombre de lots de légume proposé dans cette catégorie ('Minimal quantity of shares_1', 'Minimal quantity of shares_2',..., 'Minimal quantity of shares_12')\n",
    "\n",
    "Dans la base de données, plusieurs scénarios sont disponibles, ici on se restreindra à une stratégie de vente sur 12 mois ('Marketing'='12M') et à des climats modérés ('Climat'='Mild')"
   ]
  },
  {
   "cell_type": "markdown",
   "id": "81c86aef",
   "metadata": {},
   "source": [
    "#### 1.0 Implémenter les fonctions qui chargent les bases de données ***cropping_cycles*** et ***criteria*** sous forme de dataframe avec pandas."
   ]
  },
  {
   "cell_type": "code",
   "execution_count": 2,
   "id": "8ea562ea",
   "metadata": {},
   "outputs": [],
   "source": [
    "cropping_cycles = project.get_cropping_cycles_database(\"data/session2/cropping_cycles.csv\")\n",
    "criteria = project.get_criteria(\"data/session2/criteria.csv\")"
   ]
  },
  {
   "cell_type": "markdown",
   "id": "93fbe8bd-7d3b-4d7e-816a-3d030976e20b",
   "metadata": {},
   "source": [
    "#### 1.1 Implémenter la fonction `choose_cycle` qui, pour une catégorie et un mois de vente donnés, choisit un cycle au hasard, le légume étant choisi uniformément parmi ceux possibles. On renverra False si le légume n'est pas requis dans le panier ce mois selon la base ***criteria***, sinon on renverra l'identifiant du cycle."
   ]
  },
  {
   "cell_type": "code",
   "execution_count": 3,
   "id": "8cbc44da-cf45-4ef9-b44d-0317ccc1c607",
   "metadata": {},
   "outputs": [
    {
     "name": "stdout",
     "output_type": "stream",
     "text": [
      "                     Crop_french   ID  Seq Prod_loc Climate Marketing  \\\n",
      "540  Pomme de terre conservation  514  NaN    Field    Mild       12M   \n",
      "\n",
      "     Settingup  Harvest_start  Harvest_end Winter_storage  ...  Growing_Mar  \\\n",
      "540          3              9            9            yes  ...            1   \n",
      "\n",
      "     Growing_Apr Growing_May  Growing_Jun  Growing_Jul  Growing_Aug  \\\n",
      "540            1           1            1            1            1   \n",
      "\n",
      "     Growing_Sep  Growing_Oct  Growing_Nov  Growing_Dec  \n",
      "540            1            0            0            0  \n",
      "\n",
      "[1 rows x 41 columns]\n",
      "540    1\n",
      "Name: Sale_Apr, dtype: int64\n"
     ]
    }
   ],
   "source": [
    "category = \"Potato\"\n",
    "month = 3 #April since month start at 0\n",
    "\n",
    "cycle_id = project.choose_cycle(category, month, cropping_cycles, criteria)\n",
    "print(cropping_cycles[cropping_cycles[\"ID\"]==cycle_id])\n",
    "print(cropping_cycles[cropping_cycles[\"ID\"]==cycle_id][\"Sale_Apr\"])"
   ]
  },
  {
   "cell_type": "markdown",
   "id": "a9d719a3-43d0-4f8d-bea4-d3c3131cfdee",
   "metadata": {},
   "source": [
    "#### 1.2 On maintient un dictionaire ou une liste d'objet qui contient les identifiants de cycle et leur nombre de lots associé. Implémenter la fonction suivante qui met à jour le nombre de lot pour un cycle donné. On attribuera le nombre minimum de lots la première fois que le cycle est tiré, et on incrémente de 1 les fois suivantes où on tire ce cycle, en limitant à Shmax. "
   ]
  },
  {
   "cell_type": "code",
   "execution_count": 4,
   "id": "40d7b854-d4c3-47d1-89bf-e260afd10556",
   "metadata": {},
   "outputs": [
    {
     "name": "stdout",
     "output_type": "stream",
     "text": [
      "{516: 2}\n"
     ]
    }
   ],
   "source": [
    "cycles={}\n",
    "cycle_id = 516\n",
    "cycle = cropping_cycles[cropping_cycles[\"ID\"]==cycle_id]\n",
    "cycles = project.update_shares(cycle, cycles, cropping_cycles)\n",
    "print(cycles)"
   ]
  },
  {
   "cell_type": "markdown",
   "id": "ae47182e-b87b-4054-a4af-43cbedf07c1a",
   "metadata": {},
   "source": [
    "#### 1.3 Implémenter la fonction qui répartit les lots sur les mois où la vente est possible pour ce mois. Elle renvoie une liste avec pour chaque mois le nombres de lots à vendre."
   ]
  },
  {
   "cell_type": "code",
   "execution_count": 5,
   "id": "c3dfb3c8-3ea4-42d3-8237-7ace295a263d",
   "metadata": {},
   "outputs": [
    {
     "name": "stdout",
     "output_type": "stream",
     "text": [
      "{516: [0.25, 0.25, 0.25, 0.25, 0.0, 0.0, 0.0, 0.0, 0.25, 0.25, 0.25, 0.25]}\n"
     ]
    }
   ],
   "source": [
    "monthly_shares ={}\n",
    "\n",
    "cycle_id = int(cycle[\"ID\"].to_numpy()[0])\n",
    "monthly_shares[cycle_id] = project.spread_shares(cycle, cycles, cropping_cycles)\n",
    "print(monthly_shares)"
   ]
  },
  {
   "cell_type": "markdown",
   "id": "0b908a71-5a6e-460f-b97d-708676eb4355",
   "metadata": {},
   "source": [
    "#### 1.5 Implémenter les fonctions qui renvoient True ou False selon que les critères de quantité et de diversité sont vérifés. "
   ]
  },
  {
   "cell_type": "code",
   "execution_count": 6,
   "id": "5745356c-398a-4831-a525-9383e98a77b2",
   "metadata": {},
   "outputs": [
    {
     "name": "stdout",
     "output_type": "stream",
     "text": [
      "Quantity crit.: False, Diversity crit.: False\n"
     ]
    }
   ],
   "source": [
    "criteria_potato = criteria[criteria[\"Crop category\"]==category]\n",
    "\n",
    "quant = project.check_quant(monthly_shares, criteria_potato, month) #on vérifie le critère de quantité pour un seul mois\n",
    "div = project.check_div(monthly_shares, cropping_cycles, criteria) #on vérifie le critère de diversité pour toute l'année\n",
    "print(\"Quantity crit.: %s, Diversity crit.: %s\"%(quant, div))"
   ]
  },
  {
   "cell_type": "markdown",
   "id": "3b1df446-d43d-4a27-b550-28e1919f3b89",
   "metadata": {},
   "source": [
    "#### 1.6 Implémenter une fonction qui pour un catégorie de légume donnée renvoie un panier qui respecte les contraintes de diversité et de quantité (un dictionaire avec comme index l'id du cycle et en valeur le nombre de lot par an). "
   ]
  },
  {
   "cell_type": "code",
   "execution_count": 7,
   "id": "fc415e06-2ffe-4fa4-9b77-a79d4dfecf4b",
   "metadata": {},
   "outputs": [
    {
     "name": "stdout",
     "output_type": "stream",
     "text": [
      "{515: 5, 516: 14, 517: 7, 524: 1, 523: 2, 518: 3, 519: 6, 514: 5}\n"
     ]
    }
   ],
   "source": [
    "Box_cat,_ = project.get_box_cat(category, criteria, cropping_cycles)\n",
    "print(Box_cat)"
   ]
  },
  {
   "cell_type": "markdown",
   "id": "04407d40-ac78-4a99-8cad-5efd4465621e",
   "metadata": {},
   "source": [
    "#### 1.7 Implémenter une fonction qui renvoie N paniers (on pourra sauvegarder le résultat en json ou csv.)"
   ]
  },
  {
   "cell_type": "code",
   "execution_count": 8,
   "id": "94a88048-d9ea-4a14-b768-a58158370430",
   "metadata": {},
   "outputs": [
    {
     "name": "stdout",
     "output_type": "stream",
     "text": [
      "Les paniers ont été sauvegardés dans 'boxes.csv' avec succès !\n",
      "{'Carrot': {333: 3, 338: 2, 337: 7, 329: 1, 328: 2, 326: 2, 330: 8, 331: 1, 335: 3, 336: 2, 332: 2, 334: 7, 339: 3}, 'Condiment crop': {493: 1, 402: 3, 403: 5, 489: 1, 488: 3, 296: 4, 295: 5, 294: 2, 293: 2, 492: 1, 491: 7, 400: 3, 399: 5, 299: 6, 300: 2, 301: 4, 298: 6, 496: 4, 487: 2, 490: 2}, 'Cooked green': {356: 5, 412: 2, 407: 1, 365: 3, 363: 2, 360: 2, 340: 1, 366: 3, 321: 4, 361: 1, 309: 4, 502: 4, 503: 4, 304: 2, 410: 2, 497: 4, 374: 3, 408: 2, 378: 2, 414: 3, 319: 2}, 'Fruit crop': {390: 5, 388: 6, 389: 8, 391: 8, 427: 6, 429: 6, 303: 8, 398: 12, 387: 7, 425: 4, 505: 2, 381: 12, 383: 16, 512: 8}, 'Potato': {514: 4, 516: 10, 515: 11, 521: 2, 518: 3, 519: 6, 517: 8}, 'Raw green': {556: 2, 441: 3, 473: 4, 438: 1, 461: 3, 565: 1, 465: 3, 463: 4, 348: 2, 349: 3, 405: 1, 440: 4, 470: 2, 468: 3, 459: 4, 472: 3, 462: 5, 551: 1, 552: 4, 467: 3, 546: 2}, 'Root crop': {317: 5, 533: 2, 483: 3, 538: 1, 527: 2, 310: 2, 313: 2, 478: 2, 531: 1, 318: 3, 484: 3, 486: 3, 495: 2, 344: 3, 481: 2, 543: 3, 477: 2, 494: 7}, 'Tomato': {573: 7, 575: 4, 578: 5, 572: 3, 571: 4, 568: 5, 576: 5, 574: 5}}\n"
     ]
    }
   ],
   "source": [
    "N = 10 #10000\n",
    "categories = np.unique(cropping_cycles[\"Crop category\"])    \n",
    "\n",
    "boxes = project.get_N_boxes(N, criteria, cropping_cycles, categories) \n",
    "print(boxes[0])"
   ]
  },
  {
   "cell_type": "markdown",
   "id": "4782ed0c-0850-4133-8397-6de07ada011d",
   "metadata": {},
   "source": [
    "## 2 Estimation de la viabilité d'une microferme"
   ]
  },
  {
   "cell_type": "markdown",
   "id": "778a097b-7f65-492a-8008-0fc5ec2efb94",
   "metadata": {},
   "source": [
    "On suppose que le rendement $Y_c$ pour le système de production s, pour la ferme f et le légume c (en lots par $m^2$ s'écrit):\n",
    "$$log(Y_c) = a_s + a_f + a_c + r$$\n",
    "\n",
    "où les $e_s$, $e_f$ et $r$ suivent des lois normales $\\mathcal{N}(m, \\sigma)$ et décrivent les effets du système de production, de la ferme considérée et des effets aléatoires respectivement. Les paramètres de ces lois sont donnés dans le tableau suivante:\n",
    "\n",
    "|Paramètre| m    | $\\sigma$ |\n",
    "|---------|------|----------|\n",
    "|$a_s$    | 0.74 |      0.12|\n",
    "|$a_f$    | 0. |        0.42|\n",
    "|$r$      | 0. |        0.14|\n",
    "\n",
    "de même la charge de travail en heures par $m²$ $W_c$ pour le système de production s, pour la ferme f et le légume c s'écrit:\n",
    "\n",
    "$$log(W_c) = b_s + b_f + b_c + s$$\n",
    "\n",
    "|Paramètre| m    | $\\sigma$ |\n",
    "|---------|------|----------|\n",
    "|$b_s$    | 2.72 |      0.19|\n",
    "|$b_f$    | 0. |        0.36|\n",
    "|$s$      | 0. |        0.21|\n",
    "\n"
   ]
  },
  {
   "cell_type": "markdown",
   "id": "12dbfeac-3d90-4ec7-bd59-02c39818b76f",
   "metadata": {},
   "source": [
    "On dispose d'une base de données **'Crop_properties.csv'** qui donne pour chaque légume:\n",
    "* son prix au kilo \n",
    "* la quantité par lot en kg\n",
    "* les paramètres $a_c$ et $b_c$ qui décrivent l'effet du légume sur le rendement et la charge de travail."
   ]
  },
  {
   "cell_type": "markdown",
   "id": "036e1b9d-5c6c-4f59-938a-5ea224059d7b",
   "metadata": {},
   "source": [
    "#### 2.1 Calculer pour chaque microferme simulée son profit en euros par $m^2$ ainsi que la charge de travail associée en heures/$m^2$"
   ]
  },
  {
   "cell_type": "code",
   "execution_count": 9,
   "id": "dfef3ed2-1527-4129-8b23-2a2aa476d9e9",
   "metadata": {},
   "outputs": [
    {
     "name": "stdout",
     "output_type": "stream",
     "text": [
      "2434.7389877830656 1118.6448000000005\n"
     ]
    }
   ],
   "source": [
    "crop_properties = pd.read_csv(\"data/session2/crop_properties.csv\")\n",
    "workload, CA = project.compute_CA_workload(boxes[0], crop_properties)\n",
    "print(workload, CA)"
   ]
  },
  {
   "cell_type": "markdown",
   "id": "73204b9e",
   "metadata": {},
   "source": [
    "#### 2.2 Calculer la surface puis le chiffre d'affaire correspondant à 1800 heures de travail. "
   ]
  },
  {
   "cell_type": "code",
   "execution_count": 10,
   "id": "d2e5c17a",
   "metadata": {},
   "outputs": [
    {
     "name": "stdout",
     "output_type": "stream",
     "text": [
      "[2469.1988243  2300.1233452  2328.31822585 2158.91580032 2246.69496651\n",
      " 2232.92444168 2323.68628921 2199.701391   2173.83976142 2098.30770698]\n",
      "[1118.6448 1146.9845 1295.8495 1176.6851 1108.1578 1073.0053 1234.6117\n",
      " 1186.609  1075.5652 1048.3173]\n",
      "[ 815.47124524  897.59190711 1001.80854752  981.06335582  887.83037739\n",
      "  864.96860527  956.36879656  970.99370339  890.59800743  899.28237585]\n"
     ]
    }
   ],
   "source": [
    "ws = []\n",
    "CAs = []\n",
    "for box in boxes:\n",
    "   workload, CA = project.compute_CA_workload(box, crop_properties)\n",
    "   ws.append(workload)\n",
    "   CAs.append(CA) \n",
    "print(np.array(ws))\n",
    "print(np.array(CAs))\n",
    "\n",
    "workload_total=1800\n",
    "CA_total = project.compute_CA(np.array(ws), np.array(CAs), workload_total)\n",
    "print(CA_total)"
   ]
  },
  {
   "cell_type": "markdown",
   "id": "14d56bff-31e3-44a9-88af-a05ef266625c",
   "metadata": {},
   "source": [
    "#### 2.3 Calculer la probabilité qu'une microferme fasse un chiffre d'affaire de plus de 40000 euros par an avec une charge de travail inférieure à 1800 heures par an."
   ]
  },
  {
   "cell_type": "code",
   "execution_count": 12,
   "id": "be77c268-80c0-4ae9-89f4-e91ab8ba9be1",
   "metadata": {},
   "outputs": [
    {
     "name": "stdout",
     "output_type": "stream",
     "text": [
      "0.0\n"
     ]
    }
   ],
   "source": [
    "workload_max=1800\n",
    "CA_min=400\n",
    "proba_viable = project.compute_probability_viable(boxes, CA_min, workload_max, crop_properties)\n",
    "print(proba_viable)"
   ]
  },
  {
   "cell_type": "markdown",
   "id": "995d3075-62db-481f-9371-e129c7f0db3c",
   "metadata": {},
   "source": [
    "#### 2.4 Faire la figure représentant la distribution jointe de chiffre d'affaire et charge de travail par m^2"
   ]
  },
  {
   "cell_type": "code",
   "execution_count": 13,
   "id": "04e50b83-4686-44ac-b199-92c588f20574",
   "metadata": {},
   "outputs": [
    {
     "data": {
      "image/png": "[encoded data removed]",
      "text/plain": [
       "<Figure size 800x600 with 2 Axes>"
      ]
     },
     "metadata": {},
     "output_type": "display_data"
    }
   ],
   "source": [
    "project.figure_distribution(ws,CAs)"
   ]
  },
  {
   "cell_type": "markdown",
   "id": "f72970a2-80ff-4ebc-bd57-96ea1ba719ee",
   "metadata": {},
   "source": [
    "![title](WP_dist.png)"
   ]
  },
  {
   "cell_type": "markdown",
   "id": "44b11886",
   "metadata": {},
   "source": [
    "Faire la figure qui montre la distribution du chiffre d'affaire annuel."
   ]
  },
  {
   "cell_type": "code",
   "execution_count": 13,
   "id": "2e47f900",
   "metadata": {},
   "outputs": [],
   "source": [
    "project.figure_CAtot(CA_total)"
   ]
  },
  {
   "cell_type": "markdown",
   "id": "a37aff82",
   "metadata": {},
   "source": [
    "![title](CA.png)"
   ]
  },
  {
   "cell_type": "code",
   "execution_count": null,
   "id": "01d09087",
   "metadata": {},
   "outputs": [],
   "source": []
  },
  {
   "cell_type": "code",
   "execution_count": null,
   "id": "d9a82e74",
   "metadata": {},
   "outputs": [],
   "source": []
  }
 ],
 "metadata": {
  "kernelspec": {
   "display_name": "Python 3 (ipykernel)",
   "language": "python",
   "name": "python3"
  },
  "language_info": {
   "codemirror_mode": {
    "name": "ipython",
    "version": 3
   },
   "file_extension": ".py",
   "mimetype": "text/x-python",
   "name": "python",
   "nbconvert_exporter": "python",
   "pygments_lexer": "ipython3",
   "version": "3.10.12"
  }
 },
 "nbformat": 4,
 "nbformat_minor": 5
}
